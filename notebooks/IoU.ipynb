{
  "nbformat": 4,
  "nbformat_minor": 0,
  "metadata": {
    "colab": {
      "name": "IoU.ipynb",
      "provenance": [],
      "collapsed_sections": []
    },
    "kernelspec": {
      "name": "python3",
      "display_name": "Python 3"
    },
    "language_info": {
      "name": "python"
    }
  },
  "cells": [
    {
      "cell_type": "code",
      "source": [
        "import numpy as np"
      ],
      "metadata": {
        "id": "aIumZoitaRIa"
      },
      "execution_count": 34,
      "outputs": []
    },
    {
      "cell_type": "code",
      "execution_count": 35,
      "metadata": {
        "id": "fikNM1qeYegz"
      },
      "outputs": [],
      "source": [
        "# quick and dirty random bounding boxes\n",
        "def get_boxes(num_boxes, img_width, img_height, min_box_width, min_box_height, max_box_width, max_box_height, seed=0):\n",
        "    rng = np.random.default_rng(seed)\n",
        "    max_half_box_width = max_box_width / 2\n",
        "    max_half_box_height = max_box_height / 2\n",
        "\n",
        "    centers_x = rng.random(size=num_boxes, dtype=np.float32) * (img_width - max_box_width) + max_half_box_width\n",
        "    centers_y = rng.random(size=num_boxes, dtype=np.float32) * (img_height - max_box_height) + max_half_box_height\n",
        "    widths = rng.random(size=num_boxes, dtype=np.float32) * (max_box_width - min_box_width) + min_box_width\n",
        "    heights = rng.random(size=num_boxes, dtype=np.float32) * (max_box_height - min_box_height) + min_box_height\n",
        "\n",
        "    corners_x1 = centers_x - (widths / 2)\n",
        "    corners_y1 = centers_y - (heights / 2)\n",
        "    corners_x2 = img_width - widths\n",
        "    corners_y2 = img_height - heights\n",
        "\n",
        "    corners_x1 = centers_x - (widths / 2)\n",
        "    corners_y1 = centers_y - (heights / 2)\n",
        "    corners_x2 = centers_x + (widths / 2)\n",
        "    corners_y2 = centers_y + (heights / 2)\n",
        "\n",
        "    return np.round(np.array(list(zip(corners_x1, corners_y1, corners_x2, corners_y2))))\n",
        "\n",
        "\n",
        "# non-vectorized IoU\n",
        "def get_iou(box1, box2):\n",
        "    box1_x1, box1_y1, box1_x2, box1_y2 = box1\n",
        "    box2_x1, box2_y1, box2_x2, box2_y2 = box2\n",
        "\n",
        "    box1_delta_x = (box1_x2 - box1_x1)\n",
        "    box1_delta_y = (box1_y2 - box1_y1)\n",
        "    box2_delta_x = (box2_x2 - box2_x1)\n",
        "    box2_delta_y = (box2_y2 - box2_y1)\n",
        "\n",
        "    x_overlap = max(0, min(box1_delta_x, box2_delta_x, box1_x2 - box2_x1, box2_x2 - box1_x1))\n",
        "    y_overlap = max(0, min(box1_delta_y, box2_delta_y, box1_y2 - box2_y1, box2_y2 - box1_y1))\n",
        "\n",
        "    intersection_area = x_overlap * y_overlap\n",
        "\n",
        "    box1_area = box1_delta_x * box1_delta_y\n",
        "    box2_area = box2_delta_x * box2_delta_y\n",
        "\n",
        "    union_area = box1_area + box2_area - intersection_area\n",
        "    iou = intersection_area / union_area\n",
        "\n",
        "    return iou\n",
        "\n",
        "\n",
        "# vectorized IoU\n",
        "def get_iou_matrix1(boxes_1, boxes_2):\n",
        "    n = boxes_1.shape[0]\n",
        "    m = boxes_2.shape[0]\n",
        "\n",
        "    boxes_1_x1, boxes_1_y1 = boxes_1[:, 0].reshape(-1, 1), boxes_1[:, 1].reshape(-1, 1)\n",
        "    boxes_1_x2, boxes_1_y2 = boxes_1[:, 2].reshape(-1, 1), boxes_1[:, 3].reshape(-1, 1)\n",
        "    boxes_2_x1, boxes_2_y1 = boxes_2[:, 0].reshape(-1, 1), boxes_2[:, 1].reshape(-1, 1)\n",
        "    boxes_2_x2, boxes_2_y2 = boxes_2[:, 2].reshape(-1, 1), boxes_2[:, 3].reshape(-1, 1)\n",
        "\n",
        "    boxes_1_delta_x = (boxes_1_x2 - boxes_1_x1)\n",
        "    boxes_1_delta_y = (boxes_1_y2 - boxes_1_y1)\n",
        "    boxes_2_delta_x = (boxes_2_x2 - boxes_2_x1)\n",
        "    boxes_2_delta_y = (boxes_2_y2 - boxes_2_y1)\n",
        "    boxes_1_area = boxes_1_delta_x * boxes_1_delta_y\n",
        "    boxes_2_area = boxes_2_delta_x * boxes_2_delta_y\n",
        "\n",
        "    x_overlap_matrix = np.zeros((4, n, m))\n",
        "    x_overlap_matrix[0] = np.repeat(boxes_1_delta_x, m, axis=1)\n",
        "    x_overlap_matrix[1] = np.repeat(boxes_2_delta_x.T, n, axis=0)\n",
        "    x_overlap_matrix[2] = np.repeat(boxes_1_x2, m, axis=1) - np.repeat(boxes_2_x1.T, n, axis=0)\n",
        "    x_overlap_matrix[3] = np.repeat(boxes_2_x2.T, n, axis=0) - np.repeat(boxes_1_x1, m, axis=1)\n",
        "    x_overlap_matrix = np.clip(np.min(x_overlap_matrix, axis=0), 0, None)\n",
        "\n",
        "    y_overlap_matrix = np.zeros((4, n, m))\n",
        "    y_overlap_matrix[0] = np.repeat(boxes_1_delta_y, m, axis=1)\n",
        "    y_overlap_matrix[1] = np.repeat(boxes_2_delta_y.T, n, axis=0)\n",
        "    y_overlap_matrix[2] = np.repeat(boxes_1_y2, m, axis=1) - np.repeat(boxes_2_y1.T, n, axis=0)\n",
        "    y_overlap_matrix[3] = np.repeat(boxes_2_y2.T, n, axis=0) - np.repeat(boxes_1_y1, m, axis=1)\n",
        "    y_overlap_matrix = np.clip(np.min(y_overlap_matrix, axis=0), 0, None)\n",
        "\n",
        "    intersection_area_matrix = x_overlap_matrix * y_overlap_matrix\n",
        "    boxes_combined_area_matrix = np.repeat(boxes_1_area, m, axis=1) + np.repeat(boxes_2_area.T, n, axis=0)\n",
        "\n",
        "    union_area_matrix = boxes_combined_area_matrix - intersection_area_matrix\n",
        "    iou_matrix = intersection_area_matrix / union_area_matrix\n",
        "\n",
        "    return iou_matrix\n",
        "\n",
        "\n",
        "# vectorized IoU using masked arrays\n",
        "def get_iou_matrix2(boxes_1, boxes_2):\n",
        "    n = boxes_1.shape[0]\n",
        "    m = boxes_2.shape[0]\n",
        "\n",
        "    boxes_1_x1, boxes_1_y1 = boxes_1[:, 0].reshape(-1, 1), boxes_1[:, 1].reshape(-1, 1)\n",
        "    boxes_1_x2, boxes_1_y2 = boxes_1[:, 2].reshape(-1, 1), boxes_1[:, 3].reshape(-1, 1)\n",
        "    boxes_2_x1, boxes_2_y1 = boxes_2[:, 0].reshape(-1, 1), boxes_2[:, 1].reshape(-1, 1)\n",
        "    boxes_2_x2, boxes_2_y2 = boxes_2[:, 2].reshape(-1, 1), boxes_2[:, 3].reshape(-1, 1)\n",
        "\n",
        "    boxes_1_delta_x = (boxes_1_x2 - boxes_1_x1)\n",
        "    boxes_1_delta_y = (boxes_1_y2 - boxes_1_y1)\n",
        "    boxes_2_delta_x = (boxes_2_x2 - boxes_2_x1)\n",
        "    boxes_2_delta_y = (boxes_2_y2 - boxes_2_y1)\n",
        "    boxes_1_area = boxes_1_delta_x * boxes_1_delta_y\n",
        "    boxes_2_area = boxes_2_delta_x * boxes_2_delta_y\n",
        "\n",
        "    x_overlap_matrix = np.zeros((4, n, m))\n",
        "    x_overlap_matrix[0] = np.repeat(boxes_1_delta_x, m, axis=1)\n",
        "    x_overlap_matrix[1] = np.repeat(boxes_2_delta_x.T, n, axis=0)\n",
        "    x_overlap_matrix[2] = np.repeat(boxes_1_x2, m, axis=1) - np.repeat(boxes_2_x1.T, n, axis=0)\n",
        "    x_overlap_matrix[3] = np.repeat(boxes_2_x2.T, n, axis=0) - np.repeat(boxes_1_x1, m, axis=1)\n",
        "    x_overlap_matrix = np.min(x_overlap_matrix, axis=0)\n",
        "    x_overlap_mask = (x_overlap_matrix <= 0)\n",
        "\n",
        "    y_overlap_matrix = np.zeros((4, n, m))\n",
        "    y_overlap_matrix[0] = np.repeat(boxes_1_delta_y, m, axis=1)\n",
        "    y_overlap_matrix[1] = np.repeat(boxes_2_delta_y.T, n, axis=0)\n",
        "    y_overlap_matrix[2] = np.repeat(boxes_1_y2, m, axis=1) - np.repeat(boxes_2_y1.T, n, axis=0)\n",
        "    y_overlap_matrix[3] = np.repeat(boxes_2_y2.T, n, axis=0) - np.repeat(boxes_1_y1, m, axis=1)\n",
        "    y_overlap_matrix = np.min(y_overlap_matrix, axis=0)\n",
        "    y_overlap_mask = (y_overlap_matrix <= 0)\n",
        "\n",
        "    xy_overlap_mask = x_overlap_mask | y_overlap_mask\n",
        "    x_overlap_matrix = np.ma.array(x_overlap_matrix, mask=xy_overlap_mask)\n",
        "    y_overlap_matrix = np.ma.array(y_overlap_matrix, mask=xy_overlap_mask)\n",
        "\n",
        "    intersection_area_matrix = x_overlap_matrix * y_overlap_matrix\n",
        "    boxes_combined_area_matrix = np.ma.array(np.repeat(boxes_1_area, m, axis=1) + np.repeat(boxes_2_area.T, n, axis=0), mask=xy_overlap_mask)\n",
        "\n",
        "    union_area_matrix = boxes_combined_area_matrix - intersection_area_matrix\n",
        "    iou_matrix = intersection_area_matrix / union_area_matrix\n",
        "\n",
        "    return iou_matrix"
      ]
    },
    {
      "cell_type": "code",
      "source": [
        "IMG_WIDTH = 1000\n",
        "IMG_HEIGHT = 1000"
      ],
      "metadata": {
        "id": "JGJcg4w8cP8l"
      },
      "execution_count": 36,
      "outputs": []
    },
    {
      "cell_type": "markdown",
      "source": [
        "## Timing 200 x 200 bounding boxes\n",
        "Executing the nested loops version takes a veeeeery long time so a small 200 x 200 sample was tested using this unoptimized approach and its execution time compared to averaged execution times for each of the two optimized approaches."
      ],
      "metadata": {
        "id": "YZmR9mCNfwBX"
      }
    },
    {
      "cell_type": "markdown",
      "source": [
        "### Case 1 - dense 200 x 200\n",
        "All boxes overlapping."
      ],
      "metadata": {
        "id": "4UuKnw9NcZKq"
      }
    },
    {
      "cell_type": "code",
      "source": [
        "NUM_BOXES_IN_SET1 = 200\n",
        "NUM_BOXES_IN_SET2 = 200\n",
        "\n",
        "MIN_BOX_WIDTH = 700\n",
        "MIN_BOX_HEIGHT = 700\n",
        "MAX_BOX_WIDTH = 800\n",
        "MAX_BOX_HEIGHT = 800\n",
        "\n",
        "boxes_1 = get_boxes(NUM_BOXES_IN_SET1, IMG_WIDTH, IMG_HEIGHT, MIN_BOX_WIDTH, MIN_BOX_HEIGHT, MAX_BOX_WIDTH, MAX_BOX_HEIGHT, seed=0)\n",
        "boxes_2 = get_boxes(NUM_BOXES_IN_SET1, IMG_WIDTH, IMG_HEIGHT, MIN_BOX_WIDTH, MIN_BOX_HEIGHT, MAX_BOX_WIDTH, MAX_BOX_HEIGHT, seed=1)"
      ],
      "metadata": {
        "id": "vPXuYnFHb8vm"
      },
      "execution_count": 37,
      "outputs": []
    },
    {
      "cell_type": "markdown",
      "source": [
        "#### Nested loops version"
      ],
      "metadata": {
        "id": "8p-ZqIlHdDEO"
      }
    },
    {
      "cell_type": "code",
      "source": [
        "%%time\n",
        "\n",
        "iou_matrix_dense = np.zeros((NUM_BOXES_IN_SET1, NUM_BOXES_IN_SET2))\n",
        "\n",
        "for n, box1 in enumerate(boxes_1):\n",
        "    for m, box2 in enumerate(boxes_2):\n",
        "        iou_matrix_dense[n, m] = get_iou(box1, box2)"
      ],
      "metadata": {
        "id": "OLHEG7haZxOs",
        "colab": {
          "base_uri": "https://localhost:8080/"
        },
        "outputId": "c4644c4f-ef15-4f42-e23c-e3a9a360f975"
      },
      "execution_count": 38,
      "outputs": [
        {
          "output_type": "stream",
          "name": "stdout",
          "text": [
            "CPU times: user 428 ms, sys: 3.86 ms, total: 432 ms\n",
            "Wall time: 435 ms\n"
          ]
        }
      ]
    },
    {
      "cell_type": "markdown",
      "source": [
        "#### Vectorized version 1"
      ],
      "metadata": {
        "id": "M3O71vCMdN4b"
      }
    },
    {
      "cell_type": "code",
      "source": [
        "%%timeit\n",
        "\n",
        "get_iou_matrix1(boxes_1, boxes_2)"
      ],
      "metadata": {
        "id": "Z0xSnwNcbZ4e",
        "colab": {
          "base_uri": "https://localhost:8080/"
        },
        "outputId": "f4deee5c-aa15-4e60-afc6-906673fb2f1f"
      },
      "execution_count": 39,
      "outputs": [
        {
          "output_type": "stream",
          "name": "stdout",
          "text": [
            "100 loops, best of 5: 3.19 ms per loop\n"
          ]
        }
      ]
    },
    {
      "cell_type": "code",
      "source": [
        "iou_matrix1_dense = get_iou_matrix1(boxes_1, boxes_2)"
      ],
      "metadata": {
        "id": "S7UrTJYCkStL"
      },
      "execution_count": 40,
      "outputs": []
    },
    {
      "cell_type": "markdown",
      "source": [
        "#### Vectorized version using masked arrays"
      ],
      "metadata": {
        "id": "c67S-95pdUhT"
      }
    },
    {
      "cell_type": "code",
      "source": [
        "%%timeit\n",
        "\n",
        "get_iou_matrix2(boxes_1, boxes_2)"
      ],
      "metadata": {
        "id": "FG76ERRVbZcA",
        "colab": {
          "base_uri": "https://localhost:8080/"
        },
        "outputId": "09820245-a40c-4003-f3b3-c87d6d3408af"
      },
      "execution_count": 41,
      "outputs": [
        {
          "output_type": "stream",
          "name": "stdout",
          "text": [
            "100 loops, best of 5: 3.73 ms per loop\n"
          ]
        }
      ]
    },
    {
      "cell_type": "code",
      "source": [
        "iou_matrix2_dense = get_iou_matrix2(boxes_1, boxes_2)"
      ],
      "metadata": {
        "id": "DNErxJqmkU8z"
      },
      "execution_count": 42,
      "outputs": []
    },
    {
      "cell_type": "markdown",
      "source": [
        "##### Equality of the three dense 200 x 200 matrices"
      ],
      "metadata": {
        "id": "fHo50k9Ms7BL"
      }
    },
    {
      "cell_type": "code",
      "source": [
        "np.allclose(iou_matrix_dense, iou_matrix1_dense, iou_matrix2_dense)"
      ],
      "metadata": {
        "colab": {
          "base_uri": "https://localhost:8080/"
        },
        "id": "YJiy3D-VhQSw",
        "outputId": "f55044ce-ce34-4369-d3ae-1ebd3963ec43"
      },
      "execution_count": 43,
      "outputs": [
        {
          "output_type": "execute_result",
          "data": {
            "text/plain": [
              "True"
            ]
          },
          "metadata": {},
          "execution_count": 43
        }
      ]
    },
    {
      "cell_type": "markdown",
      "source": [
        "##### Sparsity of the dense 200 x 200 matrix"
      ],
      "metadata": {
        "id": "tRbl3KQesk7T"
      }
    },
    {
      "cell_type": "code",
      "source": [
        "print(f'sparsity = {np.sum((iou_matrix_dense == 0))/iou_matrix_dense.size:.1%}')"
      ],
      "metadata": {
        "colab": {
          "base_uri": "https://localhost:8080/"
        },
        "id": "nKb4VccIr7YS",
        "outputId": "c7058e3f-e24d-43fe-e968-6aefd1fa0d7b"
      },
      "execution_count": 44,
      "outputs": [
        {
          "output_type": "stream",
          "name": "stdout",
          "text": [
            "sparsity = 0.0%\n"
          ]
        }
      ]
    },
    {
      "cell_type": "markdown",
      "source": [
        "### Case 2 - sparse 200 x 200\n",
        "Most boxes non-overlapping."
      ],
      "metadata": {
        "id": "G-8b2gCWeeya"
      }
    },
    {
      "cell_type": "code",
      "source": [
        "NUM_BOXES_IN_SET1 = 200\n",
        "NUM_BOXES_IN_SET2 = 200\n",
        "\n",
        "MIN_BOX_WIDTH = 70\n",
        "MIN_BOX_HEIGHT = 70\n",
        "MAX_BOX_WIDTH = 80\n",
        "MAX_BOX_HEIGHT = 80\n",
        "\n",
        "boxes_1 = get_boxes(NUM_BOXES_IN_SET1, IMG_WIDTH, IMG_HEIGHT, MIN_BOX_WIDTH, MIN_BOX_HEIGHT, MAX_BOX_WIDTH, MAX_BOX_HEIGHT, seed=0)\n",
        "boxes_2 = get_boxes(NUM_BOXES_IN_SET1, IMG_WIDTH, IMG_HEIGHT, MIN_BOX_WIDTH, MIN_BOX_HEIGHT, MAX_BOX_WIDTH, MAX_BOX_HEIGHT, seed=1)"
      ],
      "metadata": {
        "id": "X6A4M7XXeyz3"
      },
      "execution_count": 45,
      "outputs": []
    },
    {
      "cell_type": "markdown",
      "source": [
        "#### Nested loops version"
      ],
      "metadata": {
        "id": "l4aWH9O3fWSO"
      }
    },
    {
      "cell_type": "code",
      "source": [
        "%%time\n",
        "\n",
        "iou_matrix_sparse = np.zeros((NUM_BOXES_IN_SET1, NUM_BOXES_IN_SET2))\n",
        "\n",
        "for n, box1 in enumerate(boxes_1):\n",
        "    for m, box2 in enumerate(boxes_2):\n",
        "        iou_matrix_sparse[n, m] = get_iou(box1, box2)"
      ],
      "metadata": {
        "colab": {
          "base_uri": "https://localhost:8080/"
        },
        "id": "wvQH03F1fPwT",
        "outputId": "f7d5ec97-5abc-4d6e-da67-80c88de6a55e"
      },
      "execution_count": 46,
      "outputs": [
        {
          "output_type": "stream",
          "name": "stdout",
          "text": [
            "CPU times: user 608 ms, sys: 10 µs, total: 608 ms\n",
            "Wall time: 612 ms\n"
          ]
        }
      ]
    },
    {
      "cell_type": "markdown",
      "source": [
        "#### Vectorized version 1"
      ],
      "metadata": {
        "id": "UX4jO7y0ffuk"
      }
    },
    {
      "cell_type": "code",
      "source": [
        "%%timeit\n",
        "\n",
        "get_iou_matrix1(boxes_1, boxes_2)"
      ],
      "metadata": {
        "colab": {
          "base_uri": "https://localhost:8080/"
        },
        "id": "W0-P_af2fSID",
        "outputId": "2275c581-84c8-4143-847b-6a0cca18a20d"
      },
      "execution_count": 47,
      "outputs": [
        {
          "output_type": "stream",
          "name": "stdout",
          "text": [
            "100 loops, best of 5: 3.33 ms per loop\n"
          ]
        }
      ]
    },
    {
      "cell_type": "code",
      "source": [
        "iou_matrix1_sparse = get_iou_matrix1(boxes_1, boxes_2)"
      ],
      "metadata": {
        "id": "48p9WXa0lTbJ"
      },
      "execution_count": 48,
      "outputs": []
    },
    {
      "cell_type": "markdown",
      "source": [
        "#### Vectorized version using masked arrays"
      ],
      "metadata": {
        "id": "ZshS2pIzflMO"
      }
    },
    {
      "cell_type": "code",
      "source": [
        "%%timeit\n",
        "\n",
        "get_iou_matrix2(boxes_1, boxes_2)"
      ],
      "metadata": {
        "colab": {
          "base_uri": "https://localhost:8080/"
        },
        "id": "bRHkZ7o1fSP7",
        "outputId": "d9f08402-d2b7-4123-d921-8f0a2ecf457f"
      },
      "execution_count": 49,
      "outputs": [
        {
          "output_type": "stream",
          "name": "stdout",
          "text": [
            "100 loops, best of 5: 4.1 ms per loop\n"
          ]
        }
      ]
    },
    {
      "cell_type": "code",
      "source": [
        "iou_matrix2_sparse = get_iou_matrix2(boxes_1, boxes_2)"
      ],
      "metadata": {
        "id": "qKq8PpHMlCI9"
      },
      "execution_count": 50,
      "outputs": []
    },
    {
      "cell_type": "markdown",
      "source": [
        "##### Equality of the three sparse 200 x 200 matrices"
      ],
      "metadata": {
        "id": "y9xYpMinuTBM"
      }
    },
    {
      "cell_type": "code",
      "source": [
        "np.allclose(iou_matrix_sparse, iou_matrix1_sparse, iou_matrix2_sparse)"
      ],
      "metadata": {
        "colab": {
          "base_uri": "https://localhost:8080/"
        },
        "id": "uCWDrrhuk4Sf",
        "outputId": "9ffd1659-6a16-4859-82f4-707177c7e432"
      },
      "execution_count": 51,
      "outputs": [
        {
          "output_type": "execute_result",
          "data": {
            "text/plain": [
              "True"
            ]
          },
          "metadata": {},
          "execution_count": 51
        }
      ]
    },
    {
      "cell_type": "markdown",
      "source": [
        "##### Sparsity of the dense 200 x 200 matrix"
      ],
      "metadata": {
        "id": "LueoLQs_uYCd"
      }
    },
    {
      "cell_type": "code",
      "source": [
        "print(f'sparsity = {np.sum((iou_matrix_sparse == 0))/iou_matrix_sparse.size:.2%}')"
      ],
      "metadata": {
        "colab": {
          "base_uri": "https://localhost:8080/"
        },
        "id": "YhHGBWMNuaLm",
        "outputId": "83ab8cab-33f8-4010-a575-f823ace13cdf"
      },
      "execution_count": 52,
      "outputs": [
        {
          "output_type": "stream",
          "name": "stdout",
          "text": [
            "sparsity = 97.59%\n"
          ]
        }
      ]
    },
    {
      "cell_type": "markdown",
      "source": [
        "## Timing 2000 x 2000 bounding boxes"
      ],
      "metadata": {
        "id": "G7y391hygHL1"
      }
    },
    {
      "cell_type": "markdown",
      "source": [
        "### Case 1 - dense 2000 x 2000\n",
        "All boxes overlapping."
      ],
      "metadata": {
        "id": "NSnEJKTkgSfj"
      }
    },
    {
      "cell_type": "code",
      "source": [
        "NUM_BOXES_IN_SET1 = 2000\n",
        "NUM_BOXES_IN_SET2 = 2000\n",
        "\n",
        "MIN_BOX_WIDTH = 700\n",
        "MIN_BOX_HEIGHT = 700\n",
        "MAX_BOX_WIDTH = 800\n",
        "MAX_BOX_HEIGHT = 800\n",
        "\n",
        "boxes_1 = get_boxes(NUM_BOXES_IN_SET1, IMG_WIDTH, IMG_HEIGHT, MIN_BOX_WIDTH, MIN_BOX_HEIGHT, MAX_BOX_WIDTH, MAX_BOX_HEIGHT, seed=0)\n",
        "boxes_2 = get_boxes(NUM_BOXES_IN_SET1, IMG_WIDTH, IMG_HEIGHT, MIN_BOX_WIDTH, MIN_BOX_HEIGHT, MAX_BOX_WIDTH, MAX_BOX_HEIGHT, seed=1)"
      ],
      "metadata": {
        "id": "g_b7XJfPood5"
      },
      "execution_count": 53,
      "outputs": []
    },
    {
      "cell_type": "markdown",
      "source": [
        "#### Vectorized version 1"
      ],
      "metadata": {
        "id": "ltvW8zzlgXMz"
      }
    },
    {
      "cell_type": "code",
      "source": [
        "%time iou_matrix1_full_dense = get_iou_matrix1(boxes_1, boxes_2)"
      ],
      "metadata": {
        "colab": {
          "base_uri": "https://localhost:8080/"
        },
        "id": "9srnt-iufSeC",
        "outputId": "909993d3-4927-4e68-e288-d388341c32c6"
      },
      "execution_count": 54,
      "outputs": [
        {
          "output_type": "stream",
          "name": "stdout",
          "text": [
            "CPU times: user 401 ms, sys: 24 ms, total: 425 ms\n",
            "Wall time: 429 ms\n"
          ]
        }
      ]
    },
    {
      "cell_type": "code",
      "source": [
        "iou_matrix1_full_dense = get_iou_matrix1(boxes_1, boxes_2)"
      ],
      "metadata": {
        "id": "j7WUZS4upH4-"
      },
      "execution_count": 55,
      "outputs": []
    },
    {
      "cell_type": "markdown",
      "source": [
        "#### Vectorized version using masked arrays"
      ],
      "metadata": {
        "id": "dY80cxE1gcEV"
      }
    },
    {
      "cell_type": "code",
      "source": [
        "%time iou_matrix2_full_dense = get_iou_matrix2(boxes_1, boxes_2)"
      ],
      "metadata": {
        "colab": {
          "base_uri": "https://localhost:8080/"
        },
        "id": "ULQYIImCfSlS",
        "outputId": "ad50d357-3664-42c7-a088-728d349bb0a5"
      },
      "execution_count": 56,
      "outputs": [
        {
          "output_type": "stream",
          "name": "stdout",
          "text": [
            "CPU times: user 452 ms, sys: 8.77 ms, total: 461 ms\n",
            "Wall time: 456 ms\n"
          ]
        }
      ]
    },
    {
      "cell_type": "code",
      "source": [
        "iou_matrix2_full_dense = get_iou_matrix2(boxes_1, boxes_2)"
      ],
      "metadata": {
        "id": "QL1q8iqNfSqa"
      },
      "execution_count": 57,
      "outputs": []
    },
    {
      "cell_type": "markdown",
      "source": [
        "##### Equality of the two dense 2000 x 2000 matrices"
      ],
      "metadata": {
        "id": "6KtxtekSu0lb"
      }
    },
    {
      "cell_type": "code",
      "source": [
        "np.allclose(iou_matrix1_full_dense, iou_matrix2_full_dense)"
      ],
      "metadata": {
        "colab": {
          "base_uri": "https://localhost:8080/"
        },
        "id": "DrpTWjeIfSwb",
        "outputId": "463162df-372f-40f7-b9b0-9a27f3f11691"
      },
      "execution_count": 58,
      "outputs": [
        {
          "output_type": "execute_result",
          "data": {
            "text/plain": [
              "True"
            ]
          },
          "metadata": {},
          "execution_count": 58
        }
      ]
    },
    {
      "cell_type": "markdown",
      "source": [
        "##### Sparsity of the dense 2000 x 2000 matrix"
      ],
      "metadata": {
        "id": "czaniQGFvDRj"
      }
    },
    {
      "cell_type": "code",
      "source": [
        "print(f'sparsity = {np.sum((iou_matrix1_full_dense == 0))/iou_matrix1_full_dense.size:.1%}')"
      ],
      "metadata": {
        "colab": {
          "base_uri": "https://localhost:8080/"
        },
        "id": "SS4blKsqvbaS",
        "outputId": "27a34216-8354-4fc7-eb13-6c5858b4f326"
      },
      "execution_count": 59,
      "outputs": [
        {
          "output_type": "stream",
          "name": "stdout",
          "text": [
            "sparsity = 0.0%\n"
          ]
        }
      ]
    },
    {
      "cell_type": "markdown",
      "source": [
        "### Case 2 - sparse 2000 x 2000\n",
        "Most boxes non-overlapping."
      ],
      "metadata": {
        "id": "p8NhbyS-pbyr"
      }
    },
    {
      "cell_type": "code",
      "source": [
        "NUM_BOXES_IN_SET1 = 2000\n",
        "NUM_BOXES_IN_SET2 = 2000\n",
        "\n",
        "MIN_BOX_WIDTH = 70\n",
        "MIN_BOX_HEIGHT = 70\n",
        "MAX_BOX_WIDTH = 80\n",
        "MAX_BOX_HEIGHT = 80\n",
        "\n",
        "boxes_1 = get_boxes(NUM_BOXES_IN_SET1, IMG_WIDTH, IMG_HEIGHT, MIN_BOX_WIDTH, MIN_BOX_HEIGHT, MAX_BOX_WIDTH, MAX_BOX_HEIGHT, seed=0)\n",
        "boxes_2 = get_boxes(NUM_BOXES_IN_SET1, IMG_WIDTH, IMG_HEIGHT, MIN_BOX_WIDTH, MIN_BOX_HEIGHT, MAX_BOX_WIDTH, MAX_BOX_HEIGHT, seed=1)"
      ],
      "metadata": {
        "id": "xI-wix5yfS17"
      },
      "execution_count": 60,
      "outputs": []
    },
    {
      "cell_type": "markdown",
      "source": [
        "#### Vectorized version 1"
      ],
      "metadata": {
        "id": "_zcbikjlpwC8"
      }
    },
    {
      "cell_type": "code",
      "source": [
        "%time iou_matrix1_full_sparse = get_iou_matrix1(boxes_1, boxes_2)"
      ],
      "metadata": {
        "colab": {
          "base_uri": "https://localhost:8080/"
        },
        "id": "GGBuHsdqfS7D",
        "outputId": "33cbdba7-f2db-4a02-efd6-0151e3fcd401"
      },
      "execution_count": 61,
      "outputs": [
        {
          "output_type": "stream",
          "name": "stdout",
          "text": [
            "CPU times: user 428 ms, sys: 3.9 ms, total: 431 ms\n",
            "Wall time: 430 ms\n"
          ]
        }
      ]
    },
    {
      "cell_type": "code",
      "source": [
        "iou_matrix1_full_sparse = get_iou_matrix1(boxes_1, boxes_2)"
      ],
      "metadata": {
        "id": "Xr7l8UOZpnVX"
      },
      "execution_count": 62,
      "outputs": []
    },
    {
      "cell_type": "markdown",
      "source": [
        "#### Vectorized version using masked arrays"
      ],
      "metadata": {
        "id": "YaTzvXYupx49"
      }
    },
    {
      "cell_type": "code",
      "source": [
        "%time iou_matrix2_full_sparse = get_iou_matrix2(boxes_1, boxes_2)"
      ],
      "metadata": {
        "colab": {
          "base_uri": "https://localhost:8080/"
        },
        "id": "jDL3Pa61pnaG",
        "outputId": "24aec90f-28ad-495d-bc9e-396d9d73c8ee"
      },
      "execution_count": 63,
      "outputs": [
        {
          "output_type": "stream",
          "name": "stdout",
          "text": [
            "CPU times: user 469 ms, sys: 8.96 ms, total: 478 ms\n",
            "Wall time: 479 ms\n"
          ]
        }
      ]
    },
    {
      "cell_type": "code",
      "source": [
        "iou_matrix2_full_sparse = get_iou_matrix2(boxes_1, boxes_2)"
      ],
      "metadata": {
        "id": "bMXzAjBopnd-"
      },
      "execution_count": 64,
      "outputs": []
    },
    {
      "cell_type": "markdown",
      "source": [
        "##### Equality of the two sparse 2000 x 2000 matrices"
      ],
      "metadata": {
        "id": "70joJpMJusMk"
      }
    },
    {
      "cell_type": "code",
      "source": [
        "np.allclose(iou_matrix1_full_sparse, iou_matrix2_full_sparse)"
      ],
      "metadata": {
        "colab": {
          "base_uri": "https://localhost:8080/"
        },
        "id": "hMw9La-Upnhu",
        "outputId": "ace6b144-35a0-45ca-a36e-3303a45206ac"
      },
      "execution_count": 65,
      "outputs": [
        {
          "output_type": "execute_result",
          "data": {
            "text/plain": [
              "True"
            ]
          },
          "metadata": {},
          "execution_count": 65
        }
      ]
    },
    {
      "cell_type": "markdown",
      "source": [
        "##### Sparsity of the sparse 2000 x 2000 matrix"
      ],
      "metadata": {
        "id": "EBMKAxdhvjnK"
      }
    },
    {
      "cell_type": "code",
      "source": [
        "print(f'sparsity = {np.sum((iou_matrix1_full_sparse == 0))/iou_matrix1_full_sparse.size:.2%}')"
      ],
      "metadata": {
        "colab": {
          "base_uri": "https://localhost:8080/"
        },
        "id": "JA7BaEzevlma",
        "outputId": "349fde5d-88b3-40c5-cd8a-221734852a2c"
      },
      "execution_count": 66,
      "outputs": [
        {
          "output_type": "stream",
          "name": "stdout",
          "text": [
            "sparsity = 97.60%\n"
          ]
        }
      ]
    }
  ]
}